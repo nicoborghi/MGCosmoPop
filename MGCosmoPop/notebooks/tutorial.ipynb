{
 "cells": [
  {
   "cell_type": "markdown",
   "metadata": {},
   "source": [
    "# MGCosmoPop\n",
    "\n",
    "This notebook shows how to use MGCosmoPop to sample from mass and redshift distributions, load GWTC-2 data, and compute posterior probabilities for astrophysical and cosmological parameters."
   ]
  },
  {
   "cell_type": "code",
   "execution_count": 6,
   "metadata": {},
   "outputs": [],
   "source": [
    "import os\n",
    "# os.chdir('/Users/Michi/Dropbox/Local/Physics_projects/MGCosmoPop/MGCosmoPop/')\n",
    "import sys\n",
    "sys.path.append('/home/debian/software/MGCosmoPop/MGCosmoPop/')\n",
    "import importlib\n",
    "import numpy as np\n",
    "import scipy.stats as ss\n",
    "from scipy.integrate import cumtrapz\n",
    "from scipy.interpolate import interp1d\n",
    "import corner\n",
    "\n",
    "import matplotlib.pyplot as plt\n",
    "plt.rcParams[\"font.family\"] = 'serif'\n",
    "plt.rcParams[\"mathtext.fontset\"] = \"cm\"\n",
    "\n",
    "import Globals"
   ]
  },
  {
   "cell_type": "markdown",
   "metadata": {},
   "source": [
    "# Population\n",
    "\n",
    "A population is characterised by three components: \n",
    "* the mass distribution of the binaries, $p(m_1, m_2)$, implemented in population.astro.astroMassDistribution\n",
    "* the distribution of the spins of the binaries, implemented in population.astro.astroSpinDistribution\n",
    "* the evolution of the merger rate of the binaries with redshift, $\\frac{d R}{dV_c dt} = R(z)$, implemented in population.astro.rateEvolution\n",
    "\n",
    "\n",
    "A *population* is another separate class, that is instantiated by passing as arguments a mass distribution, spin distribution, and rate\n",
    "\n",
    "Finally, allPopulation is an object that collects all populations and the cosmology and returns the (log) differential number of events per unit mass, distance and redshift (or det frame masses and luminosity distance) \n",
    "\n"
   ]
  },
  {
   "cell_type": "markdown",
   "metadata": {},
   "source": [
    "## 1. Instantiate a mass function\n",
    "\n",
    "Supported:\n",
    "* truncated power law\n",
    "* broken power law\n",
    "* (truncated power law with smoothed edges)"
   ]
  },
  {
   "cell_type": "code",
   "execution_count": 1,
   "metadata": {},
   "outputs": [
    {
     "ename": "ModuleNotFoundError",
     "evalue": "No module named 'population'",
     "output_type": "error",
     "traceback": [
      "\u001b[0;31m---------------------------------------------------------------------------\u001b[0m",
      "\u001b[0;31mModuleNotFoundError\u001b[0m                       Traceback (most recent call last)",
      "\u001b[0;32m<ipython-input-1-aa87789f9654>\u001b[0m in \u001b[0;36m<module>\u001b[0;34m\u001b[0m\n\u001b[0;32m----> 1\u001b[0;31m \u001b[0;32mfrom\u001b[0m \u001b[0mpopulation\u001b[0m\u001b[0;34m.\u001b[0m\u001b[0mastro\u001b[0m\u001b[0;34m.\u001b[0m\u001b[0mastroMassDistribution\u001b[0m \u001b[0;32mimport\u001b[0m \u001b[0mBrokenPowerLawMass\u001b[0m\u001b[0;34m\u001b[0m\u001b[0;34m\u001b[0m\u001b[0m\n\u001b[0m",
      "\u001b[0;31mModuleNotFoundError\u001b[0m: No module named 'population'"
     ]
    }
   ],
   "source": [
    "from population.astro.astroMassDistribution import BrokenPowerLawMass"
   ]
  },
  {
   "cell_type": "code",
   "execution_count": 3,
   "metadata": {},
   "outputs": [
    {
     "name": "stdout",
     "output_type": "stream",
     "text": [
      "Broken power law mass function base values: {'alpha1': 1.6, 'alpha2': 5.6, 'beta': 1.4, 'deltam': 4.8, 'ml': 4, 'mh': 87, 'b': 0.43}\n"
     ]
    }
   ],
   "source": [
    "massFunction = BrokenPowerLawMass( )"
   ]
  },
  {
   "cell_type": "markdown",
   "metadata": {},
   "source": [
    "## 2. Instantiate spin distribution\n",
    "\n",
    "For skipping the spin distribution, we use the class DummySpinDist.\n",
    "\n",
    "A gaussian distribution for the components $\\chi_p , \\chi_{eff}$ is also supported."
   ]
  },
  {
   "cell_type": "code",
   "execution_count": 4,
   "metadata": {},
   "outputs": [],
   "source": [
    "from population.astro.astroSpinDistribution import DummySpinDist\n",
    "\n",
    "spinDist = DummySpinDist()\n"
   ]
  },
  {
   "cell_type": "markdown",
   "metadata": {},
   "source": [
    "## 3. Instantiate rate evolution objects\n",
    "\n",
    "Supported: \n",
    "\n",
    "- simple power law: $R(z)=R_0 (1+z)^{\\lambda}$\n",
    "\n",
    "- Madau-Dickinson Rate"
   ]
  },
  {
   "cell_type": "code",
   "execution_count": 5,
   "metadata": {},
   "outputs": [],
   "source": [
    "from population.astro.rateEvolution import AstroPhRateEvolution"
   ]
  },
  {
   "cell_type": "code",
   "execution_count": 6,
   "metadata": {},
   "outputs": [
    {
     "name": "stdout",
     "output_type": "stream",
     "text": [
      "Rate R0 is in yr^-1 Gpc^-3\n"
     ]
    }
   ],
   "source": [
    "MDrate = AstroPhRateEvolution() # Madau-Dickinson Rate"
   ]
  },
  {
   "cell_type": "markdown",
   "metadata": {},
   "source": [
    "## 4. Create an Astrophysical Population for each mass funtion and rate\n"
   ]
  },
  {
   "cell_type": "code",
   "execution_count": 7,
   "metadata": {},
   "outputs": [],
   "source": [
    "from population.astro.astroPopulation import AstroPopulation"
   ]
  },
  {
   "cell_type": "code",
   "execution_count": 8,
   "metadata": {},
   "outputs": [],
   "source": [
    "MDpop = AstroPopulation(MDrate, massFunction, spinDist)"
   ]
  },
  {
   "cell_type": "markdown",
   "metadata": {},
   "source": [
    "# Cosmology \n",
    "\n",
    "Then, one needs to define a cosmology. This is done via the *Cosmo* object, that contains all the useful functions\n"
   ]
  },
  {
   "cell_type": "code",
   "execution_count": 9,
   "metadata": {},
   "outputs": [],
   "source": [
    "from cosmology.cosmo import Cosmo\n",
    "import astropy.units as u"
   ]
  },
  {
   "cell_type": "code",
   "execution_count": 10,
   "metadata": {},
   "outputs": [],
   "source": [
    "myCosmo = Cosmo(dist_unit=u.Gpc)"
   ]
  },
  {
   "cell_type": "markdown",
   "metadata": {},
   "source": [
    "# All populations \n",
    "\n",
    "Different populations can be put together to give the final number of compact binaries. The object taking care of this is *AllPopulations* . \n",
    "\n",
    "It is instantiated by passing a cosmology (i.e. an instance of the *Cosmo* class). \n",
    "\n",
    "Then, each population is added through the method *add_pop* .\n",
    "\n",
    "\n",
    "This class allows to calculate $\\frac{d N}{dm_1^{d} dm_2^{d} d(dL)} = \\frac{d N}{dm_1 dm_2 dz}\\frac{1}{(1+z) \\frac{d(dL)}{dz}}  = \\frac{1}{(1+z) \\frac{d(dL)}{dz}} \\frac{d V_c}{dz}\\frac{1}{(1+z)} R(z) p(s_1, s_2)  p(m_1, m_2)  $\n"
   ]
  },
  {
   "cell_type": "code",
   "execution_count": 11,
   "metadata": {},
   "outputs": [],
   "source": [
    "from population.allPopulations import AllPopulations"
   ]
  },
  {
   "cell_type": "code",
   "execution_count": 12,
   "metadata": {},
   "outputs": [
    {
     "name": "stdout",
     "output_type": "stream",
     "text": [
      "Setting cosmology.\n",
      "5 parameters: ['H0', 'Om', 'w0', 'Xi0', 'n']\n"
     ]
    }
   ],
   "source": [
    "allPopsMD = AllPopulations(myCosmo)"
   ]
  },
  {
   "cell_type": "code",
   "execution_count": 13,
   "metadata": {},
   "outputs": [
    {
     "name": "stdout",
     "output_type": "stream",
     "text": [
      "Adding population of type AstroPopulation\n",
      "11 parameters: ['R0', 'alphaRedshift', 'betaRedshift', 'zp', 'alpha1', 'alpha2', 'beta', 'deltam', 'ml', 'mh', 'b']\n",
      "New parameter list: ['H0', 'Om', 'w0', 'Xi0', 'n', 'R0', 'alphaRedshift', 'betaRedshift', 'zp', 'alpha1', 'alpha2', 'beta', 'deltam', 'ml', 'mh', 'b']. Total 16 params\n"
     ]
    }
   ],
   "source": [
    "allPopsMD.add_pop(MDpop)"
   ]
  },
  {
   "cell_type": "markdown",
   "metadata": {},
   "source": [
    "### Set parameters values\n",
    "\n",
    "Finally, one can change the values of the population parameters. "
   ]
  },
  {
   "cell_type": "code",
   "execution_count": 14,
   "metadata": {},
   "outputs": [],
   "source": [
    "myParams = {'R0':20, 'alphaRedshift':3,  'betaRedshift':0.5, 'zp':3, 'ml':4. ,'mh':70, 'b':0.35, 'deltam':5. }"
   ]
  },
  {
   "cell_type": "code",
   "execution_count": 15,
   "metadata": {},
   "outputs": [
    {
     "name": "stdout",
     "output_type": "stream",
     "text": [
      "cosmo basevalues: {'H0': 67.74, 'Om': 0.3075, 'w0': -1, 'Xi0': 1, 'n': 1.91}\n",
      "Setting values in populations...\n",
      "Setting value of R0 to 20 in AstroPhRateEvolution\n",
      "Setting value of alphaRedshift to 3 in AstroPhRateEvolution\n",
      "Setting value of betaRedshift to 0.5 in AstroPhRateEvolution\n",
      "Setting value of zp to 3 in AstroPhRateEvolution\n",
      "Setting value of ml to 4.0 in BrokenPowerLawMass\n",
      "Setting value of mh to 70 in BrokenPowerLawMass\n",
      "Setting value of b to 0.35 in BrokenPowerLawMass\n",
      "Setting value of deltam to 5.0 in BrokenPowerLawMass\n",
      "Setting value of R0 to 20 in AstroPopulation\n",
      "Setting value of alphaRedshift to 3 in AstroPopulation\n",
      "Setting value of betaRedshift to 0.5 in AstroPopulation\n",
      "Setting value of zp to 3 in AstroPopulation\n",
      "Setting value of ml to 4.0 in AstroPopulation\n",
      "Setting value of mh to 70 in AstroPopulation\n",
      "Setting value of b to 0.35 in AstroPopulation\n",
      "Setting value of deltam to 5.0 in AstroPopulation\n",
      "Setting value of R0 to 20 in AllPopulations\n",
      "Setting value of alphaRedshift to 3 in AllPopulations\n",
      "Setting value of betaRedshift to 0.5 in AllPopulations\n",
      "Setting value of zp to 3 in AllPopulations\n",
      "Setting value of ml to 4.0 in AllPopulations\n",
      "Setting value of mh to 70 in AllPopulations\n",
      "Setting value of b to 0.35 in AllPopulations\n",
      "Setting value of deltam to 5.0 in AllPopulations\n"
     ]
    }
   ],
   "source": [
    "allPopsMD.set_values( myParams)#{'R0':50, 'alphaRedshift':0,  'betaRedshift':2, 'zp':2 })"
   ]
  },
  {
   "cell_type": "markdown",
   "metadata": {},
   "source": [
    "### Visualise names and values of the population parameters"
   ]
  },
  {
   "cell_type": "code",
   "execution_count": 16,
   "metadata": {},
   "outputs": [
    {
     "data": {
      "text/plain": [
       "['H0',\n",
       " 'Om',\n",
       " 'w0',\n",
       " 'Xi0',\n",
       " 'n',\n",
       " 'R0',\n",
       " 'alphaRedshift',\n",
       " 'betaRedshift',\n",
       " 'zp',\n",
       " 'alpha1',\n",
       " 'alpha2',\n",
       " 'beta',\n",
       " 'deltam',\n",
       " 'ml',\n",
       " 'mh',\n",
       " 'b']"
      ]
     },
     "execution_count": 16,
     "metadata": {},
     "output_type": "execute_result"
    }
   ],
   "source": [
    "# Parameters' names \n",
    "allPopsMD.params"
   ]
  },
  {
   "cell_type": "code",
   "execution_count": 17,
   "metadata": {
    "scrolled": true
   },
   "outputs": [
    {
     "data": {
      "text/plain": [
       "[67.74, 0.3075, -1, 1, 1.91, 20, 3, 0.5, 3, 1.6, 5.6, 1.4, 5.0, 4.0, 70, 0.35]"
      ]
     },
     "execution_count": 17,
     "metadata": {},
     "output_type": "execute_result"
    }
   ],
   "source": [
    "# Values of the population parameters\n",
    "lambdaBase = allPopsMD.get_base_values(allPopsMD.params)\n",
    "lambdaBase"
   ]
  },
  {
   "cell_type": "markdown",
   "metadata": {},
   "source": [
    "# Sampling\n",
    "\n",
    "We can sample from the mass and redshift distributions with the `sample` method of the object allPopulations."
   ]
  },
  {
   "cell_type": "code",
   "execution_count": 2,
   "metadata": {},
   "outputs": [],
   "source": [
    "N=20000\n",
    "zmax = 20"
   ]
  },
  {
   "cell_type": "code",
   "execution_count": 3,
   "metadata": {},
   "outputs": [
    {
     "ename": "NameError",
     "evalue": "name 'allPopsMD' is not defined",
     "output_type": "error",
     "traceback": [
      "\u001b[0;31m---------------------------------------------------------------------------\u001b[0m",
      "\u001b[0;31mNameError\u001b[0m                                 Traceback (most recent call last)",
      "\u001b[0;32m<ipython-input-3-23b7bdc36d9c>\u001b[0m in \u001b[0;36m<module>\u001b[0;34m\u001b[0m\n\u001b[0;32m----> 1\u001b[0;31m \u001b[0mallMDSamples\u001b[0m \u001b[0;34m=\u001b[0m \u001b[0mallPopsMD\u001b[0m\u001b[0;34m.\u001b[0m\u001b[0msample\u001b[0m\u001b[0;34m(\u001b[0m\u001b[0mN\u001b[0m\u001b[0;34m,\u001b[0m \u001b[0mzmax\u001b[0m\u001b[0;34m,\u001b[0m \u001b[0mlambdaBase\u001b[0m\u001b[0;34m)\u001b[0m\u001b[0;34m\u001b[0m\u001b[0;34m\u001b[0m\u001b[0m\n\u001b[0m\u001b[1;32m      2\u001b[0m \u001b[0mm1sMD\u001b[0m\u001b[0;34m,\u001b[0m \u001b[0mm2sMD\u001b[0m\u001b[0;34m,\u001b[0m \u001b[0mzsMD\u001b[0m \u001b[0;34m=\u001b[0m \u001b[0mallMDSamples\u001b[0m\u001b[0;34m[\u001b[0m\u001b[0;34m:\u001b[0m\u001b[0;34m,\u001b[0m \u001b[0;34m:\u001b[0m\u001b[0;34m,\u001b[0m \u001b[0;36m0\u001b[0m\u001b[0;34m]\u001b[0m\u001b[0;34m,\u001b[0m \u001b[0mallMDSamples\u001b[0m\u001b[0;34m[\u001b[0m\u001b[0;34m:\u001b[0m\u001b[0;34m,\u001b[0m \u001b[0;34m:\u001b[0m\u001b[0;34m,\u001b[0m \u001b[0;36m1\u001b[0m\u001b[0;34m]\u001b[0m\u001b[0;34m,\u001b[0m \u001b[0mallMDSamples\u001b[0m\u001b[0;34m[\u001b[0m\u001b[0;34m:\u001b[0m\u001b[0;34m,\u001b[0m \u001b[0;34m:\u001b[0m\u001b[0;34m,\u001b[0m \u001b[0;36m2\u001b[0m\u001b[0;34m]\u001b[0m\u001b[0;34m\u001b[0m\u001b[0;34m\u001b[0m\u001b[0m\n",
      "\u001b[0;31mNameError\u001b[0m: name 'allPopsMD' is not defined"
     ]
    }
   ],
   "source": [
    "allMDSamples = allPopsMD.sample(N, zmax, lambdaBase)\n",
    "m1sMD, m2sMD, zsMD = allMDSamples[:, :, 0], allMDSamples[:, :, 1], allMDSamples[:, :, 2] "
   ]
  },
  {
   "cell_type": "markdown",
   "metadata": {},
   "source": [
    "### Redshift distribution"
   ]
  },
  {
   "cell_type": "code",
   "execution_count": 20,
   "metadata": {},
   "outputs": [
    {
     "name": "stderr",
     "output_type": "stream",
     "text": [
      "/Users/Michi/Dropbox/Local/Physics_projects/MGCosmoPop/MGCosmoPop/cosmology/cosmo.py:116: RuntimeWarning: divide by zero encountered in log\n",
      "  res =  np.log(4*np.pi)+3*np.log(self.clight)-3*np.log(H0)+2*np.log(self.uu(z, Om0, w0))-np.log(self.E(z, Om0, w0))\n"
     ]
    },
    {
     "data": {
      "image/png": "[encoded data removed]",
      "text/plain": [
       "<Figure size 432x288 with 1 Axes>"
      ]
     },
     "metadata": {
      "needs_background": "light"
     },
     "output_type": "display_data"
    }
   ],
   "source": [
    "_ = plt.hist(zsMD, bins=50, density=True, label='samples')\n",
    "\n",
    "\n",
    "R0, al, bb, zp, = allPopsMD.get_base_values(['R0', 'alphaRedshift', 'betaRedshift', 'zp', ])\n",
    "H0, Om, w0 = allPopsMD.get_base_values(['H0', 'Om', 'w0',  ])\n",
    "\n",
    "\n",
    "\n",
    "zz = np.linspace(0, zmax, 200)\n",
    "zpdf = np.exp(allPopsMD._pops[0].rateEvol.log_dNdVdt(zz,  [R0, al, bb, zp,])+ allPopsMD.cosmo.log_dV_dz(zz, H0, Om, w0)-np.log1p(zz))\n",
    "zpdf/=np.trapz(zpdf,zz)\n",
    "plt.plot(zz, zpdf, label='pdf')\n",
    "\n",
    "plt.xlabel('z', fontsize=15);\n",
    "plt.ylabel('p(z)', fontsize=15);\n",
    "plt.legend();"
   ]
  },
  {
   "cell_type": "markdown",
   "metadata": {},
   "source": [
    "### Joint and marginal mass distribution"
   ]
  },
  {
   "cell_type": "code",
   "execution_count": 21,
   "metadata": {},
   "outputs": [
    {
     "data": {
      "text/plain": [
       "(1.6, 5.6, 1.4, 4.0, 70, 0.35, 5.0)"
      ]
     },
     "execution_count": 21,
     "metadata": {},
     "output_type": "execute_result"
    }
   ],
   "source": [
    "alpha1, alpha2, beta, deltam, ml, mh, b = allPopsMD.get_base_values(['alpha1', 'alpha2', 'beta', 'ml', 'mh', 'b', 'deltam'])\n",
    "alpha1, alpha2, beta, ml, mh, b, deltam"
   ]
  },
  {
   "cell_type": "code",
   "execution_count": 67,
   "metadata": {},
   "outputs": [
    {
     "data": {
      "image/png": "[encoded data removed]",
      "text/plain": [
       "<Figure size 720x720 with 3 Axes>"
      ]
     },
     "metadata": {
      "needs_background": "light"
     },
     "output_type": "display_data"
    }
   ],
   "source": [
    "\n",
    "ms = np.logspace( np.log10(ml-ml/20), np.log10(mh+mh/20), 2000 )\n",
    "M1S, M2S = np.meshgrid(ms, ms, indexing='ij')\n",
    "\n",
    "\n",
    "def pp_norm(x1, x2):\n",
    "    return np.exp(allPopsMD._pops[0].massDist.logpdf([x1, x2], [alpha1, alpha2, beta, deltam, ml,  mh, b],  ))\n",
    "\n",
    "\n",
    "PSNORM = np.where( M2S <= M1S, pp_norm(M1S, M2S) , 0) \n",
    "\n",
    "\n",
    "pm1NORM = np.trapz(PSNORM, M2S, axis=1)\n",
    "pm2NORM = np.trapz(PSNORM, M1S, axis=0)\n",
    "\n",
    "\n",
    "\n",
    "pm1NORM /= np.trapz(pm1NORM, ms)\n",
    "pm2NORM /= np.trapz(pm2NORM, ms)\n",
    "\n",
    "\n",
    "fig = plt.figure(figsize=(10, 10))\n",
    "grid = plt.GridSpec(4, 4)\n",
    "joint_ax = fig.add_subplot(grid[1:,:-1])\n",
    "m1_ax = fig.add_subplot(grid[0, :-1], sharex=joint_ax)\n",
    "m2_ax = fig.add_subplot(grid[1:, -1], sharey=joint_ax)\n",
    "    \n",
    "x = joint_ax.contourf(M1S, M2S, PSNORM, cmap='viridis', levels=100)\n",
    "\n",
    "m1_ax.plot(ms, pm1NORM, label='Marginal pdf')\n",
    "_ = m1_ax.hist(m1sMD, bins=100, density=True, label='samples')\n",
    "m1_ax.legend()\n",
    "\n",
    "m2_ax.plot(pm2NORM, ms, label='Marginal pdf')\n",
    "m2_ax.hist(m2sMD, bins=100, density=True, orientation='horizontal')\n",
    "#m2_ax.legend()\n",
    "#m2_ax.set_xscale('log')\n",
    "    \n",
    "joint_ax.set_xlabel(r'$m_1$ ($M_\\odot$)', fontsize=20)\n",
    "joint_ax.set_ylabel(r'$m_2$ ($M_\\odot$)', fontsize=20)\n",
    "    \n",
    "m1_ax.set_ylabel(r'$p\\left( m_1 \\right)$', fontsize=20)\n",
    "m2_ax.set_xlabel(r'$p\\left( m_2 \\right)$', fontsize=20)\n",
    "    \n",
    "plt.tight_layout()"
   ]
  },
  {
   "cell_type": "markdown",
   "metadata": {},
   "source": [
    "# Computing the population function"
   ]
  },
  {
   "cell_type": "code",
   "execution_count": 22,
   "metadata": {},
   "outputs": [
    {
     "name": "stdout",
     "output_type": "stream",
     "text": [
      "[-0.00984245]\n"
     ]
    }
   ],
   "source": [
    "# Now we can evaluate the population funtction.\n",
    "\n",
    "\n",
    "m1 = np.array([30., ])\n",
    "m2 = np.array([20., ])\n",
    "z = np.array([1.5, ])\n",
    "\n",
    "Lambda = [67.74, 0.3075, -1, 1.0, 0, 50.0, 3, 2, 2, 1.6, 5.6, 1.4, 5.0, 4, 70.0, 0.5] \n",
    "\n",
    "logdN = allPopsMD.log_dN_dm1zdm2zddL( m1, m2, z, [], 1, Lambda, )\n",
    "\n",
    "print(logdN)"
   ]
  },
  {
   "cell_type": "markdown",
   "metadata": {},
   "source": [
    "# Loading data\n",
    "\n",
    "Each data release (O1-O2, O3a) has a specific class that inherits from the abstract class ABSData. \n",
    "A pre-defined function load_data is also available in sample.models .\n",
    "\n",
    "Here we show how to load O1-O2 data"
   ]
  },
  {
   "cell_type": "code",
   "execution_count": 23,
   "metadata": {},
   "outputs": [],
   "source": [
    "from dataStructures.O1O2data import O1O2Data, O1O2InjectionsData\n",
    "from dataStructures.mockData import GWMockInjectionsData"
   ]
  },
  {
   "cell_type": "code",
   "execution_count": 24,
   "metadata": {},
   "outputs": [],
   "source": [
    "# We can provide a dictionary of events to use or not use. In this case we specify to exclude GW170817 which is a BNS\n",
    "\n",
    "events = {'use': None,\n",
    "          'not_use': ['GW170817', ] }\n",
    "          \n"
   ]
  },
  {
   "cell_type": "code",
   "execution_count": 25,
   "metadata": {},
   "outputs": [
    {
     "name": "stdout",
     "output_type": "stream",
     "text": [
      "FAR th in LVC data: 1.0\n",
      "In the O1O2 data we have the following BBH events, total 10 (excluding ['GW170817']):\n",
      "['GW170729', 'GW151226', 'GW170809', 'GW170104', 'GW170608', 'GW170814', 'GW151012', 'GW170818', 'GW150914', 'GW170823']\n",
      "Using only events with SNR>8.0 (round to 1 decimal digit)\n",
      "Excluded the following events with SNR<8.0: \n",
      "[]\n",
      "10 events remaining.\n",
      "Using only events with FAR<1.0\n",
      "Excluded the following events with FAR>1.0: \n",
      "[]\n",
      "10 events remaining.\n",
      "Excluding BBH events : \n",
      "['GW170817']\n",
      "Loading data...\n",
      "Reading data from GW170729\n",
      "Number of samples in LVC data: 5112\n",
      "Reading data from GW151226\n",
      "Number of samples in LVC data: 52252\n",
      "Reading data from GW170809\n",
      "Number of samples in LVC data: 14802\n",
      "Reading data from GW170104\n",
      "Number of samples in LVC data: 24972\n",
      "Reading data from GW170608\n",
      "Number of samples in LVC data: 6448\n",
      "Reading data from GW170814\n",
      "Number of samples in LVC data: 40000\n",
      "Reading data from GW151012\n",
      "Number of samples in LVC data: 16096\n",
      "Reading data from GW170818\n",
      "Number of samples in LVC data: 5862\n",
      "Reading data from GW150914\n",
      "Number of samples in LVC data: 8350\n",
      "Reading data from GW170823\n",
      "Number of samples in LVC data: 4278\n",
      "We have 10 events.\n",
      "Using distances in Gpc\n",
      "Number of samples for each event: [5112, 52252, 14802, 24972, 6448, 40000, 16096, 5862, 8350, 4278]\n",
      "Obs time (yrs): 0.4556164383561644\n",
      "FAR th in LVC data: 1.0\n",
      "In the O1O2 data we have the following BBH events, total 10 (excluding ['GW170817']):\n",
      "['GW170729', 'GW151226', 'GW170809', 'GW170104', 'GW170608', 'GW170814', 'GW151012', 'GW170818', 'GW150914', 'GW170823']\n",
      "Using only events with SNR>8.0 (round to 1 decimal digit)\n",
      "Excluded the following events with SNR<8.0: \n",
      "[]\n",
      "10 events remaining.\n",
      "Using only events with FAR<1.0\n",
      "Excluded the following events with FAR>1.0: \n",
      "[]\n",
      "10 events remaining.\n",
      "Excluding BBH events : \n",
      "['GW170817']\n",
      "Loading data...\n",
      "Reading data from GW170729\n",
      "Number of samples in LVC data: 5112\n",
      "Reading data from GW151226\n",
      "Number of samples in LVC data: 52252\n",
      "Reading data from GW170809\n",
      "Number of samples in LVC data: 14802\n",
      "Reading data from GW170104\n",
      "Number of samples in LVC data: 24972\n",
      "Reading data from GW170608\n",
      "Number of samples in LVC data: 6448\n",
      "Reading data from GW170814\n",
      "Number of samples in LVC data: 40000\n",
      "Reading data from GW151012\n",
      "Number of samples in LVC data: 16096\n",
      "Reading data from GW170818\n",
      "Number of samples in LVC data: 5862\n",
      "Reading data from GW150914\n",
      "Number of samples in LVC data: 8350\n",
      "Reading data from GW170823\n",
      "Number of samples in LVC data: 4278\n",
      "We have 10 events.\n",
      "Using distances in Gpc\n",
      "Number of samples for each event: [5112, 52252, 14802, 24972, 6448, 40000, 16096, 5862, 8350, 4278]\n",
      "Obs time (yrs): 0.4556164383561644\n"
     ]
    }
   ],
   "source": [
    "fname_data = os.path.join(Globals.dataPath, 'O1O2')\n",
    "O1O2 = O1O2Data(fname_data, events_use=events, nSamplesUse=None)\n",
    "O1O2_1 = O1O2Data(fname_data, events_use=events, nSamplesUse=None)\n",
    "\n",
    "\n",
    "allData = [O1O2, ] # One can add here other datasets in the list"
   ]
  },
  {
   "cell_type": "markdown",
   "metadata": {},
   "source": [
    "#### O2 injections"
   ]
  },
  {
   "cell_type": "code",
   "execution_count": 27,
   "metadata": {},
   "outputs": [
    {
     "name": "stdout",
     "output_type": "stream",
     "text": [
      "Removing factor of 1/2 for each spin dimension from p_draw...\n",
      "Re-weighting p_draw to go to detector frame quantities...\n",
      "Number of total injections: 71000000.0\n",
      "Number of injections that pass first threshold: 8472\n",
      "Max redshift of injections: 1.1662752223838337\n",
      "Obs time: 0.4556164383561644 yrs\n"
     ]
    }
   ],
   "source": [
    "# LVC injections\n",
    "fname_inj  = os.path.join(fname_data, 'injections_O1O2an_spin.h5' )\n",
    "InjDataO2_LVC = O1O2InjectionsData(fname_inj, )\n"
   ]
  },
  {
   "cell_type": "code",
   "execution_count": 29,
   "metadata": {},
   "outputs": [
    {
     "name": "stdout",
     "output_type": "stream",
     "text": [
      "Loading injections...\n",
      "Dropping 0 points with exactly equal masses\n",
      "Max redshift of injections assuming Planck 15 cosmology: 1.5390381026078779\n",
      "Number of total injections: 63100000\n",
      "Number of detected injections: 40031\n",
      "Obs time: 0.4556164383561644\n"
     ]
    }
   ],
   "source": [
    "# Injections generated with MGCosmoPop\n",
    "fname_inj_1  = os.path.join(fname_data, 'injections_O1O2_40k','selected.h5' )\n",
    "\n",
    "InjDataO2_mock = GWMockInjectionsData(fname_inj_1,  nInjUse=None,  Tobs=(48.3+118)/365.)"
   ]
  },
  {
   "cell_type": "code",
   "execution_count": 37,
   "metadata": {},
   "outputs": [
    {
     "name": "stderr",
     "output_type": "stream",
     "text": [
      "WARNING:root:Too few points to create valid contours\n",
      "WARNING:matplotlib.legend:No handles with labels found to put in legend.\n"
     ]
    },
    {
     "data": {
      "image/png": "[encoded data removed]",
      "text/plain": [
       "<Figure size 547.2x547.2 with 9 Axes>"
      ]
     },
     "metadata": {
      "needs_background": "light"
     },
     "output_type": "display_data"
    }
   ],
   "source": [
    "zs = myCosmo.z_from_dLGW_fast(InjDataO2_mock.dL, 67.74, 0.3075, -1, 1.0, 0)\n",
    "m1s = InjDataO2_mock.m1z/(1+zs)\n",
    "m2s = InjDataO2_mock.m2z/(1+zs)\n",
    "\n",
    "zsLVC = myCosmo.z_from_dLGW_fast(InjDataO2_LVC.dL, 67.74, 0.3075, -1, 1.0, 0)\n",
    "m1sLVC = InjDataO2_LVC.m1z/(1+zsLVC)\n",
    "m2sLVC = InjDataO2_LVC.m2z/(1+zsLVC)\n",
    "\n",
    "\n",
    "fig = corner.corner(np.array([m1sLVC, m2sLVC, zsLVC]).T, range=[(0,500), (0,500), (0,1.5)],  color='red', label='LVC', hist_kwargs=dict(density=True))\n",
    "fig = corner.corner(np.array([m1s, m2s, zs]).T, range=[(0,500), (0,500), (0,1.5)],color='blue', label='MGCosmoPop', fig=fig, hist_kwargs=dict(density=True))\n",
    "\n",
    "\n",
    "fig.legend(loc='upper right');"
   ]
  },
  {
   "cell_type": "markdown",
   "metadata": {},
   "source": [
    "#### Expected detections in O1-O2"
   ]
  },
  {
   "cell_type": "code",
   "execution_count": 102,
   "metadata": {},
   "outputs": [
    {
     "name": "stdout",
     "output_type": "stream",
     "text": [
      "cosmo basevalues: {'H0': 67.74, 'Om': 0.311, 'w0': -1.0, 'Xi0': 1.0, 'n': 1.91}\n",
      "Setting value of w0 to -1.0 in Cosmo\n",
      "Setting value of Xi0 to 1.0 in Cosmo\n",
      "Setting value of Om to 0.311 in Cosmo\n",
      "Setting values in populations...\n",
      "Setting value of R0 to 20 in AstroPhRateEvolution\n",
      "Setting value of alphaRedshift to 1.5 in AstroPhRateEvolution\n",
      "Setting value of betaRedshift to 2 in AstroPhRateEvolution\n",
      "Setting value of zp to 2 in AstroPhRateEvolution\n",
      "Setting value of alpha1 to 1.6 in BrokenPowerLawMass\n",
      "Setting value of alpha2 to 5.6 in BrokenPowerLawMass\n",
      "Setting value of beta to 1.4 in BrokenPowerLawMass\n",
      "Setting value of deltam to 4.8 in BrokenPowerLawMass\n",
      "Setting value of ml to 4 in BrokenPowerLawMass\n",
      "Setting value of mh to 80 in BrokenPowerLawMass\n",
      "Setting value of b to 0.43 in BrokenPowerLawMass\n",
      "Setting value of R0 to 20 in AstroPopulation\n",
      "Setting value of alphaRedshift to 1.5 in AstroPopulation\n",
      "Setting value of betaRedshift to 2 in AstroPopulation\n",
      "Setting value of zp to 2 in AstroPopulation\n",
      "Setting value of alpha1 to 1.6 in AstroPopulation\n",
      "Setting value of alpha2 to 5.6 in AstroPopulation\n",
      "Setting value of beta to 1.4 in AstroPopulation\n",
      "Setting value of deltam to 4.8 in AstroPopulation\n",
      "Setting value of ml to 4 in AstroPopulation\n",
      "Setting value of mh to 80 in AstroPopulation\n",
      "Setting value of b to 0.43 in AstroPopulation\n",
      "Setting value of w0 to -1.0 in AllPopulations\n",
      "Setting value of Xi0 to 1.0 in AllPopulations\n",
      "Setting value of Om to 0.311 in AllPopulations\n",
      "Setting value of R0 to 20 in AllPopulations\n",
      "Setting value of alphaRedshift to 1.5 in AllPopulations\n",
      "Setting value of betaRedshift to 2 in AllPopulations\n",
      "Setting value of zp to 2 in AllPopulations\n",
      "Setting value of alpha1 to 1.6 in AllPopulations\n",
      "Setting value of alpha2 to 5.6 in AllPopulations\n",
      "Setting value of beta to 1.4 in AllPopulations\n",
      "Setting value of deltam to 4.8 in AllPopulations\n",
      "Setting value of ml to 4 in AllPopulations\n",
      "Setting value of mh to 80 in AllPopulations\n",
      "Setting value of b to 0.43 in AllPopulations\n"
     ]
    }
   ],
   "source": [
    "params_fixed_O2 = {        'w0': -1. , \n",
    "                        'Xi0':1.,\n",
    "                        'Om': 0.311,\n",
    "                    'R0':20,   'alphaRedshift':1.5,  'betaRedshift':2, 'zp':2,\n",
    "                    'alpha1': 1.6, 'alpha2': 5.6, 'beta': 1.4, 'deltam': 4.8, 'ml': 4, \n",
    "                       'mh': 80, 'b': 0.43\n",
    "    }\n",
    "\n",
    "\n",
    "allPopsMD.set_values(params_fixed_O2)\n"
   ]
  },
  {
   "cell_type": "code",
   "execution_count": 103,
   "metadata": {},
   "outputs": [
    {
     "name": "stdout",
     "output_type": "stream",
     "text": [
      "Around 14 detections expected in the O1-O2 data-taking period with this population model\n"
     ]
    }
   ],
   "source": [
    "from posteriors.selectionBias import SelectionBiasInjections\n",
    "\n",
    "selBias = SelectionBiasInjections( allPopsMD, [InjDataO2_mock, ], [ 'H0', ],  )\n",
    "\n",
    "\n",
    "# We can compute the expected number of detections in the O1-O2 data-taking period, ant the associated MCC error\n",
    "\n",
    "Lambda_test = [70., ]\n",
    "\n",
    "Nexp, err, Neff = selBias.Ndet( Lambda_test, verbose=True, )\n",
    "\n",
    "print('Around %s detections expected in the O1-O2 data-taking period with this population model' %int(Nexp[0]) )\n"
   ]
  },
  {
   "cell_type": "markdown",
   "metadata": {},
   "source": [
    "# Likelihood and posterior evaluation"
   ]
  },
  {
   "cell_type": "code",
   "execution_count": 104,
   "metadata": {},
   "outputs": [],
   "source": [
    "from posteriors.prior import Prior\n",
    "from posteriors.likelihood import HyperLikelihood\n",
    "from posteriors.posterior import Posterior\n",
    "from posteriors.selectionBias import SelectionBiasInjections"
   ]
  },
  {
   "cell_type": "code",
   "execution_count": 105,
   "metadata": {},
   "outputs": [],
   "source": [
    "# We specify the prior limits\n",
    "priorLimits = { 'H0': (0, 500),  \n",
    "               'Xi0': (0.1, 10) ,\n",
    "               'Om': (0.05, 1),\n",
    "               'w0': (-2, -0.5),\n",
    "               'n':(0.,10.),\n",
    "               \n",
    "               'R0': (1e-01, 1e03),             \n",
    "               'alphaRedshift': (-15, 15),\n",
    "               'betaRedshift': (0., 15.),\n",
    "               'zp':(0., 4.),               \n",
    "               \n",
    "               'alpha1': (-4, 12),                          \n",
    "               'alpha2': (-4, 12), \n",
    "               'deltam':  (0, 10),\n",
    "               'ml': (2, 10),\n",
    "               'mh':( 30, 100),\n",
    "               'b':  (0, 1) ,\n",
    "               \n",
    "               'muEff':(-1, 1.),\n",
    "                'sigmaEff':(0.01, 1.),\n",
    "                'muP':(0.01, 1.),\n",
    "                'sigmaP':(0.01, 1.),\n",
    "               \n",
    "               }\n",
    "\n",
    "# ... and the type of prior\n",
    "\n",
    "priorNames = {'H0' : 'flat',\n",
    "              'Xi0': 'flatLog',\n",
    "              'Om': 'flat',\n",
    "               'w0': 'flat',\n",
    "              'n':'flat',\n",
    "              \n",
    "               'R0': 'flatLog',              \n",
    "              'alphaRedshift': 'flat',\n",
    "               'betaRedshift': 'flat',\n",
    "               'zp':'flat',\n",
    "              \n",
    "               'ml': 'flat',\n",
    "               'mh':'flat',\n",
    "               \n",
    "               'alpha1':'flat',\n",
    "               'alpha2':'flat',\n",
    "               'deltam':'flat',\n",
    "               'b':'flat',\n",
    "               \n",
    "               'muEff':'flat',\n",
    "               'sigmaEff':'flat',\n",
    "                'muP':'flat',\n",
    "                'sigmaP':'flat',                    \n",
    "               \n",
    "               }\n",
    "\n",
    "\n",
    "# Specify the parameters names on which to do the inference\n",
    "params_inference = [ 'H0', ]\n",
    "\n"
   ]
  },
  {
   "cell_type": "code",
   "execution_count": 106,
   "metadata": {},
   "outputs": [
    {
     "data": {
      "text/plain": [
       "[67.74, 0.311, -1.0, 1.0, 1.91, 20, 1.5, 2, 2, 1.6, 5.6, 1.4, 4.8, 4, 80, 0.43]"
      ]
     },
     "execution_count": 106,
     "metadata": {},
     "output_type": "execute_result"
    }
   ],
   "source": [
    "allPopsMD.get_base_values(allPopsMD.params)"
   ]
  },
  {
   "cell_type": "code",
   "execution_count": 107,
   "metadata": {},
   "outputs": [],
   "source": [
    "# Instantiate Prior object\n",
    "myPrior = Prior(priorLimits, params_inference, priorNames, priorParams=None)\n",
    "  \n",
    "# Instantiate likelihood\n",
    "myLik = HyperLikelihood(allPopsMD, allData, params_inference, verbose=True, safety_factor=30 )\n",
    "\n"
   ]
  },
  {
   "cell_type": "code",
   "execution_count": 108,
   "metadata": {},
   "outputs": [
    {
     "name": "stdout",
     "output_type": "stream",
     "text": [
      "Around 14 detections expected in the O1-O2 data-taking period with this population model with my injections\n"
     ]
    }
   ],
   "source": [
    "\n",
    "\n",
    "# Instantiate selection bias\n",
    "\n",
    "selBias = SelectionBiasInjections( allPopsMD, [InjDataO2_mock, ], params_inference,  )\n",
    "\n",
    "\n",
    "# We can compute the expected number of detections in the O1-O2 data-taking period, ant the associated MCC error\n",
    "\n",
    "Lambda_test = [70., ]\n",
    "\n",
    "Nexp, err, Neff = selBias.Ndet( Lambda_test, verbose=True, )\n",
    "\n",
    "print('Around %s detections expected in the O1-O2 data-taking period with this population model with my injections' %int(Nexp[0]) )\n"
   ]
  },
  {
   "cell_type": "code",
   "execution_count": 109,
   "metadata": {},
   "outputs": [],
   "source": [
    "# Instantiate posterior\n",
    "\n",
    "myPost = Posterior(myLik, myPrior, selBias, verbose=True )\n"
   ]
  },
  {
   "cell_type": "markdown",
   "metadata": {},
   "source": [
    "#### Example: posterior probability for $H_0$, assuming all the astrophysical parameters are known"
   ]
  },
  {
   "cell_type": "code",
   "execution_count": 110,
   "metadata": {},
   "outputs": [],
   "source": [
    "H0grid = np.linspace(20, 200, 30)\n",
    "postGrid = [myPost.logPosterior([val, ]) for val in H0grid]"
   ]
  },
  {
   "cell_type": "code",
   "execution_count": 111,
   "metadata": {
    "scrolled": true
   },
   "outputs": [
    {
     "data": {
      "image/png": "[encoded data removed]",
      "text/plain": [
       "<Figure size 432x288 with 1 Axes>"
      ]
     },
     "metadata": {
      "needs_background": "light"
     },
     "output_type": "display_data"
    }
   ],
   "source": [
    "plt.plot(H0grid, np.exp(postGrid)/np.trapz(np.exp(postGrid), H0grid), label='O1-O2 data' );\n",
    "\n",
    "\n",
    "plt.xlabel(r'$H_0$', fontsize=20);\n",
    "plt.ylabel(r'p($H_0$)', fontsize=20);\n",
    "plt.axvline(67.74, color='k', ls='--', lw=2, label='Planck value');\n",
    "plt.legend();"
   ]
  },
  {
   "cell_type": "code",
   "execution_count": null,
   "metadata": {},
   "outputs": [],
   "source": []
  }
 ],
 "metadata": {
  "kernelspec": {
   "display_name": "Python 3",
   "language": "python",
   "name": "python3"
  },
  "language_info": {
   "codemirror_mode": {
    "name": "ipython",
    "version": 3
   },
   "file_extension": ".py",
   "mimetype": "text/x-python",
   "name": "python",
   "nbconvert_exporter": "python",
   "pygments_lexer": "ipython3",
   "version": "3.9.2"
  }
 },
 "nbformat": 4,
 "nbformat_minor": 4
}
